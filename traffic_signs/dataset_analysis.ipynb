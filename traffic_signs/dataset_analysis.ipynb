{
 "cells": [
  {
   "cell_type": "code",
   "execution_count": null,
   "metadata": {},
   "outputs": [],
   "source": [
    "from __future__ import division\n",
    "\n",
    "import os\n",
    "import glob\n",
    "from collections import defaultdict, Counter\n",
    "import colorsys\n",
    "\n",
    "import imageio\n",
    "import numpy as np\n",
    "from sklearn.cluster import KMeans\n",
    "\n",
    "import matplotlib as mpl\n",
    "from matplotlib import pyplot as plt\n",
    "\n",
    "from evaluation.bbox_iou import bbox_iou"
   ]
  },
  {
   "cell_type": "code",
   "execution_count": null,
   "metadata": {},
   "outputs": [],
   "source": [
    "def size(mask, bbox):\n",
    "    tly, tlx, bry, brx = bbox\n",
    "    return np.count_nonzero(mask[tly:bry,tlx:brx])"
   ]
  },
  {
   "cell_type": "code",
   "execution_count": null,
   "metadata": {},
   "outputs": [],
   "source": [
    "def form_factor(bbox):\n",
    "    tly, tlx, bry, brx = bbox\n",
    "    width = brx - tlx\n",
    "    height = bry - tly\n",
    "    return width / height"
   ]
  },
  {
   "cell_type": "code",
   "execution_count": null,
   "metadata": {},
   "outputs": [],
   "source": [
    "def filling_ratio(mask, bbox):\n",
    "    tly, tlx, bry, brx = bbox\n",
    "    width = brx - tlx\n",
    "    height = bry - tly\n",
    "    bbox_area = width * height\n",
    "    mask_area = size(mask, bbox)\n",
    "    return mask_area / bbox_area"
   ]
  },
  {
   "cell_type": "code",
   "execution_count": null,
   "metadata": {},
   "outputs": [],
   "source": [
    "def compute_num_overlap(gts):\n",
    "    if len(gts) > 1:\n",
    "        for i in range(len(gts)):\n",
    "            bboxA = list(map(float, gts[i][:4]))\n",
    "            for j in range(i+1, len(gts)):\n",
    "                bboxB = list(map(float, gts[j][:4]))\n",
    "                print(img, bbox_iou(bboxA, bboxB))"
   ]
  },
  {
   "cell_type": "code",
   "execution_count": null,
   "metadata": {},
   "outputs": [],
   "source": [
    "def dominant_colors(img, mask, bbox, k=7, n=2):\n",
    "    tly, tlx, bry, brx = bbox\n",
    "    \n",
    "    img_patch = img[tly:bry,tlx:brx]\n",
    "    mask_patch = mask[tly:bry,tlx:brx]\n",
    "    mask_patch = np.repeat(mask_patch[:,:,np.newaxis], 3, axis=2)\n",
    "    pixels = img_patch[np.nonzero(mask_patch)].reshape((-1, 3))\n",
    "    \n",
    "    clt = KMeans(n_clusters=k)\n",
    "    labels = clt.fit_predict(pixels)\n",
    "    \n",
    "    c = Counter(labels)\n",
    "    most_common, _ = zip(*c.most_common(n))\n",
    "    most_common = list(most_common)\n",
    "    \n",
    "    return clt.cluster_centers_[most_common].astype(np.uint8)"
   ]
  },
  {
   "cell_type": "code",
   "execution_count": null,
   "metadata": {},
   "outputs": [],
   "source": [
    "def show_patch(img, mask, bbox):\n",
    "    fig = plt.figure(figsize=(6, 1), frameon=False)\n",
    "    tly, tlx, bry, brx = bbox\n",
    "    img_patch = img[tly:bry,tlx:brx]\n",
    "    mask_patch = mask[tly:bry,tlx:brx]\n",
    "    mask_patch = np.minimum(mask_patch, 1)\n",
    "    mask_patch = np.repeat(mask_patch[:,:,np.newaxis], 3, axis=2)\n",
    "    plt.imshow(img_patch * mask_patch)"
   ]
  },
  {
   "cell_type": "code",
   "execution_count": null,
   "metadata": {},
   "outputs": [],
   "source": [
    "class_frequency = defaultdict(int)\n",
    "size_per_class = defaultdict(list)\n",
    "form_factor_per_class = defaultdict(list)\n",
    "filling_ratio_per_class = defaultdict(list)\n",
    "rgb_colors_per_class = defaultdict(list)\n",
    "for img_file in sorted(glob.glob('data/train/*.jpg')):\n",
    "    name = os.path.splitext(os.path.split(img_file)[1])[0]\n",
    "    mask_file = 'data/train/mask/mask.{}.png'.format(name)\n",
    "    gt_file = 'data/train/gt/gt.{}.txt'.format(name)\n",
    "    img = imageio.imread(img_file)\n",
    "    mask = imageio.imread(mask_file)\n",
    "    gts = [line.split(' ') for line in open(gt_file, 'r').read().splitlines()]\n",
    "    for gt in gts:\n",
    "        bbox = np.round(list(map(int, map(float, gt[:4]))))\n",
    "        label = gt[4]\n",
    "        \n",
    "        class_frequency[label] += 1\n",
    "        size_per_class[label].append(size(mask, bbox))\n",
    "        form_factor_per_class[label].append(form_factor(bbox))\n",
    "        filling_ratio_per_class[label].append(filling_ratio(mask, bbox))\n",
    "        rgb_colors_per_class[label].extend(dominant_colors(img, mask, bbox))"
   ]
  },
  {
   "cell_type": "code",
   "execution_count": null,
   "metadata": {},
   "outputs": [],
   "source": [
    "labels = sorted(class_frequency.keys())\n",
    "heights = [class_frequency[label] for label in labels]\n",
    "fig = plt.figure(figsize=(14, 7))\n",
    "plt.bar(range(len(labels)), heights, tick_label=labels)\n",
    "fig.suptitle('Frequency per class')\n",
    "plt.show()"
   ]
  },
  {
   "cell_type": "code",
   "execution_count": null,
   "metadata": {},
   "outputs": [],
   "source": [
    "labels = sorted(size_per_class.keys())\n",
    "ncols = 2\n",
    "nrows = int(np.ceil(len(labels) / ncols))\n",
    "fig, ax = plt.subplots(nrows, ncols, figsize=(14, 7))\n",
    "for idx, label in enumerate(labels):\n",
    "    i, j = idx//ncols, idx%ncols\n",
    "    ax[i, j].hist(size_per_class[label])\n",
    "    ax[i, j].set_title(label)\n",
    "fig.subplots_adjust(hspace=0.5)\n",
    "fig.suptitle('Size per class (in pixels)')\n",
    "plt.show()"
   ]
  },
  {
   "cell_type": "code",
   "execution_count": null,
   "metadata": {},
   "outputs": [],
   "source": [
    "labels = sorted(form_factor_per_class.keys())\n",
    "ncols = 2\n",
    "nrows = int(np.ceil(len(labels) / ncols))\n",
    "fig, ax = plt.subplots(nrows, ncols, figsize=(14, 7))\n",
    "for idx, label in enumerate(labels):\n",
    "    i, j = idx//ncols, idx%ncols\n",
    "    ax[i, j].hist(form_factor_per_class[label])\n",
    "    ax[i, j].set_title(label)\n",
    "fig.subplots_adjust(hspace=0.5)\n",
    "fig.suptitle('Form factor per class')\n",
    "plt.show()"
   ]
  },
  {
   "cell_type": "code",
   "execution_count": null,
   "metadata": {},
   "outputs": [],
   "source": [
    "labels = sorted(filling_ratio_per_class.keys())\n",
    "ncols = 2\n",
    "nrows = int(np.ceil(len(labels) / ncols))\n",
    "fig, ax = plt.subplots(nrows, ncols, figsize=(14, 7), frameon=False)\n",
    "for idx, label in enumerate(labels):\n",
    "    i, j = idx//ncols, idx%ncols\n",
    "    ax[i, j].hist(filling_ratio_per_class[label])\n",
    "    ax[i, j].set_title(label)\n",
    "fig.subplots_adjust(hspace=0.5)\n",
    "fig.suptitle('Filling ratio per class')\n",
    "plt.show()"
   ]
  },
  {
   "cell_type": "code",
   "execution_count": null,
   "metadata": {},
   "outputs": [],
   "source": [
    "hsv_colors_per_class = defaultdict(list)\n",
    "for label in rgb_colors_per_class.keys():\n",
    "    for rgb in rgb_colors_per_class[label]:\n",
    "        hsv = list(colorsys.rgb_to_hsv(*(rgb/255)))\n",
    "        hsv[2] = 1  # maximum amount of white\n",
    "        hsv_colors_per_class[label].append(hsv)"
   ]
  },
  {
   "cell_type": "code",
   "execution_count": null,
   "metadata": {},
   "outputs": [],
   "source": [
    "labels = sorted(hsv_colors_per_class.keys())\n",
    "ncols = 2\n",
    "nrows = int(np.ceil(len(labels) / ncols))\n",
    "fig, ax = plt.subplots(nrows, ncols, figsize=(14, 7))\n",
    "for idx, label in enumerate(labels):\n",
    "    hsv_colors = hsv_colors_per_class[label]\n",
    "    clt = KMeans(n_clusters=2)\n",
    "    clt.fit(hsv_colors)\n",
    "    avg_colors = clt.cluster_centers_\n",
    "    \n",
    "    i, j = idx//ncols, idx%ncols\n",
    "    rgb_colors = [colorsys.hsv_to_rgb(*hsv) for hsv in avg_colors]\n",
    "    for x, color in enumerate(rgb_colors):\n",
    "        ax[i, j].add_patch(mpl.patches.Rectangle((x, 0), 1, 1, facecolor=color))\n",
    "    ax[i, j].set_xlim((0, len(rgb_colors)))\n",
    "    ax[i, j].set_ylim((0, 1))\n",
    "    ax[i, j].set_xticks([])\n",
    "    ax[i, j].set_yticks([])\n",
    "    ax[i, j].set_aspect(\"equal\")\n",
    "    ax[i, j].set_title(label)\n",
    "fig.tight_layout()\n",
    "plt.show()"
   ]
  },
  {
   "cell_type": "code",
   "execution_count": null,
   "metadata": {},
   "outputs": [],
   "source": [
    "hsv_colors = np.concatenate(list(hsv_colors_per_class.values()))\n",
    "clt = KMeans(n_clusters=3)  # 3 colors\n",
    "clt.fit(hsv_colors)\n",
    "avg_colors = clt.cluster_centers_\n",
    "[print('({:.4f}, {:.4f}, {:.4f})'.format(*c)) for c in avg_colors]\n",
    "\n",
    "\n",
    "rgb_colors = [colorsys.hsv_to_rgb(*hsv) for hsv in avg_colors]\n",
    "fig = plt.figure(figsize=(6, 1), frameon=False)\n",
    "ax = fig.add_subplot(111)\n",
    "for x, color in enumerate(rgb_colors):\n",
    "    ax.add_patch(mpl.patches.Rectangle((x, 0), 1, 1, facecolor=color))\n",
    "ax.set_xlim((0, len(rgb_colors)))\n",
    "ax.set_ylim((0, 1))\n",
    "ax.set_xticks([])\n",
    "ax.set_yticks([])\n",
    "ax.set_aspect('equal')\n",
    "plt.show()"
   ]
  },
  {
   "cell_type": "code",
   "execution_count": null,
   "metadata": {},
   "outputs": [],
   "source": []
  }
 ],
 "metadata": {
  "kernelspec": {
   "display_name": "Python 3",
   "language": "python",
   "name": "python3"
  },
  "language_info": {
   "codemirror_mode": {
    "name": "ipython",
    "version": 3
   },
   "file_extension": ".py",
   "mimetype": "text/x-python",
   "name": "python",
   "nbconvert_exporter": "python",
   "pygments_lexer": "ipython3",
   "version": "3.6.3"
  }
 },
 "nbformat": 4,
 "nbformat_minor": 2
}
