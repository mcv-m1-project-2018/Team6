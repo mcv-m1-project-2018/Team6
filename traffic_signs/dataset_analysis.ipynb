{
 "cells": [
  {
   "cell_type": "code",
   "execution_count": 1,
   "metadata": {},
   "outputs": [],
   "source": [
    "from __future__ import division\n",
    "\n",
    "import os\n",
    "import glob\n",
    "from collections import defaultdict\n",
    "\n",
    "import imageio\n",
    "import numpy as np\n",
    "\n",
    "from matplotlib import pyplot as plt\n",
    "\n",
    "from evaluation.bbox_iou import bbox_iou"
   ]
  },
  {
   "cell_type": "code",
   "execution_count": 2,
   "metadata": {},
   "outputs": [],
   "source": [
    "def size(mask, bbox):\n",
    "    tly, tlx, bry, brx = bbox\n",
    "    return np.count_nonzero(mask[tly:bry,tlx:brx])"
   ]
  },
  {
   "cell_type": "code",
   "execution_count": 3,
   "metadata": {},
   "outputs": [],
   "source": [
    "def form_factor(bbox):\n",
    "    tly, tlx, bry, brx = bbox\n",
    "    width = brx - tlx\n",
    "    height = bry - tly\n",
    "    return width / height"
   ]
  },
  {
   "cell_type": "code",
   "execution_count": 4,
   "metadata": {},
   "outputs": [],
   "source": [
    "def filling_ratio(mask, bbox):\n",
    "    tly, tlx, bry, brx = bbox\n",
    "    width = brx - tlx\n",
    "    height = bry - tly\n",
    "    bbox_area = width * height\n",
    "    mask_area = size(mask, bbox)\n",
    "    return mask_area / bbox_area"
   ]
  },
  {
   "cell_type": "code",
   "execution_count": 5,
   "metadata": {},
   "outputs": [],
   "source": [
    "def compute_num_overlap(gts):\n",
    "    if len(gts) > 1:\n",
    "        for i in range(len(gts)):\n",
    "            bboxA = list(map(float, gts[i][:4]))\n",
    "            for j in range(i+1, len(gts)):\n",
    "                bboxB = list(map(float, gts[j][:4]))\n",
    "                print(img, bbox_iou(bboxA, bboxB))"
   ]
  },
  {
   "cell_type": "code",
   "execution_count": 6,
   "metadata": {},
   "outputs": [],
   "source": [
    "class_frequency = defaultdict(int)\n",
    "size_per_class = defaultdict(list)\n",
    "form_factor_per_class = defaultdict(list)\n",
    "filling_ratio_per_class = defaultdict(list)\n",
    "for img in glob.glob('data/train/*.jpg'):\n",
    "    name = os.path.splitext(os.path.split(img)[1])[0]\n",
    "    mask_file = 'data/train/mask/mask.{}.png'.format(name)\n",
    "    gt_file = 'data/train/gt/gt.{}.txt'.format(name)\n",
    "    mask = imageio.imread(mask_file)\n",
    "    gts = [line.split(' ') for line in open(gt_file, 'r').read().splitlines()]\n",
    "    for gt in gts:\n",
    "        bbox = np.round(list(map(int, map(float, gt[:4]))))\n",
    "        label = gt[4]\n",
    "        class_frequency[label] += 1\n",
    "        size_per_class[label].append(size(mask, bbox))\n",
    "        form_factor_per_class[label].append(form_factor(bbox))\n",
    "        filling_ratio_per_class[label].append(filling_ratio(mask, bbox))"
   ]
  },
  {
   "cell_type": "code",
   "execution_count": 7,
   "metadata": {},
   "outputs": [
    {
     "data": {
      "image/png": "[encoded data removed]",
      "text/plain": [
       "<matplotlib.figure.Figure at 0x112652668>"
      ]
     },
     "metadata": {},
     "output_type": "display_data"
    }
   ],
   "source": [
    "labels = sorted(class_frequency.keys())\n",
    "frequencies = [class_frequency[label] for label in labels]\n",
    "ind = range(len(labels))\n",
    "plt.figure(figsize=(14, 7))\n",
    "plt.bar(ind, frequencies)\n",
    "plt.xticks(ind, labels)\n",
    "plt.title('Class frequencies')\n",
    "plt.show()"
   ]
  },
  {
   "cell_type": "code",
   "execution_count": 8,
   "metadata": {},
   "outputs": [
    {
     "data": {
      "image/png": "[encoded data removed]",
      "text/plain": [
       "<matplotlib.figure.Figure at 0x114fad828>"
      ]
     },
     "metadata": {},
     "output_type": "display_data"
    }
   ],
   "source": [
    "labels = sorted(size_per_class.keys())\n",
    "nrows = 3\n",
    "ncols = int(np.ceil(len(labels)/nrows))\n",
    "fig, ax = plt.subplots(nrows, ncols, figsize=(14, 7))\n",
    "for idx, label in enumerate(labels):\n",
    "    i, j = idx//ncols, idx%ncols\n",
    "    ax[i, j].hist(size_per_class[label], bins=20)\n",
    "    ax[i, j].set_title(label)\n",
    "    fig.subplots_adjust(hspace=0.5)\n",
    "fig.suptitle('Object size (in pixels)')\n",
    "plt.show()"
   ]
  },
  {
   "cell_type": "code",
   "execution_count": null,
   "metadata": {},
   "outputs": [],
   "source": []
  }
 ],
 "metadata": {
  "kernelspec": {
   "display_name": "Python 3",
   "language": "python",
   "name": "python3"
  },
  "language_info": {
   "codemirror_mode": {
    "name": "ipython",
    "version": 3
   },
   "file_extension": ".py",
   "mimetype": "text/x-python",
   "name": "python",
   "nbconvert_exporter": "python",
   "pygments_lexer": "ipython3",
   "version": "3.6.3"
  }
 },
 "nbformat": 4,
 "nbformat_minor": 2
}
