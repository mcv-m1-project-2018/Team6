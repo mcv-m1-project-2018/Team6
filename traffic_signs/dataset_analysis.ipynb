{
 "cells": [
  {
   "cell_type": "code",
   "execution_count": null,
   "metadata": {},
   "outputs": [],
   "source": [
    "from __future__ import division\n",
    "\n",
    "import os\n",
    "import glob\n",
    "from collections import defaultdict, Counter\n",
    "import colorsys\n",
    "\n",
    "import imageio\n",
    "import numpy as np\n",
    "from sklearn.cluster import KMeans\n",
    "\n",
    "import matplotlib as mpl\n",
    "from matplotlib import pyplot as plt\n",
    "\n",
    "from evaluation.bbox_iou import bbox_iou"
   ]
  },
  {
   "cell_type": "code",
   "execution_count": 2,
   "metadata": {},
   "outputs": [],
   "source": [
    "def size(mask, bbox):\n",
    "    tly, tlx, bry, brx = bbox\n",
    "    return np.count_nonzero(mask[tly:bry,tlx:brx])"
   ]
  },
  {
   "cell_type": "code",
   "execution_count": 3,
   "metadata": {},
   "outputs": [],
   "source": [
    "def form_factor(bbox):\n",
    "    tly, tlx, bry, brx = bbox\n",
    "    width = brx - tlx\n",
    "    height = bry - tly\n",
    "    return width / height"
   ]
  },
  {
   "cell_type": "code",
   "execution_count": 4,
   "metadata": {},
   "outputs": [],
   "source": [
    "def filling_ratio(mask, bbox):\n",
    "    tly, tlx, bry, brx = bbox\n",
    "    width = brx - tlx\n",
    "    height = bry - tly\n",
    "    bbox_area = width * height\n",
    "    mask_area = size(mask, bbox)\n",
    "    return mask_area / bbox_area"
   ]
  },
  {
   "cell_type": "code",
   "execution_count": 5,
   "metadata": {},
   "outputs": [],
   "source": [
    "def compute_num_overlap(gts):\n",
    "    if len(gts) > 1:\n",
    "        for i in range(len(gts)):\n",
    "            bboxA = list(map(float, gts[i][:4]))\n",
    "            for j in range(i+1, len(gts)):\n",
    "                bboxB = list(map(float, gts[j][:4]))\n",
    "                print(img, bbox_iou(bboxA, bboxB))"
   ]
  },
  {
   "cell_type": "code",
   "execution_count": 6,
   "metadata": {},
   "outputs": [],
   "source": [
    "def dominant_colors(img, mask, bbox, k=3, n=2):\n",
    "    tly, tlx, bry, brx = bbox\n",
    "    \n",
    "    img_patch = img[tly:bry,tlx:brx]\n",
    "    mask_patch = mask[tly:bry,tlx:brx]\n",
    "    mask_patch = np.repeat(mask_patch[:,:,np.newaxis], 3, axis=2)\n",
    "    pixels = img_patch[np.nonzero(mask_patch)].reshape((-1, 3))\n",
    "    \n",
    "    clt = KMeans(n_clusters=k)\n",
    "    labels = clt.fit_predict(pixels)\n",
    "    \n",
    "    c = Counter(labels)\n",
    "    most_common, _ = zip(*c.most_common(n))\n",
    "    most_common = list(most_common)\n",
    "    \n",
    "    return clt.cluster_centers_[most_common].astype(np.uint8)"
   ]
  },
  {
   "cell_type": "code",
   "execution_count": 7,
   "metadata": {},
   "outputs": [],
   "source": [
    "def show_colors(colors):\n",
    "    fig = plt.figure(figsize=(6, 1), frameon=False)\n",
    "    ax = fig.add_subplot(111)\n",
    "    for x, color in enumerate(colors):\n",
    "        ax.add_patch(mpl.patches.Rectangle((x, 0), 1, 1, facecolor=color))\n",
    "    ax.set_xlim((0, len(colors)))\n",
    "    ax.set_ylim((0, 1))\n",
    "    ax.set_xticks([])\n",
    "    ax.set_yticks([])\n",
    "    ax.set_aspect(\"equal\")"
   ]
  },
  {
   "cell_type": "code",
   "execution_count": 8,
   "metadata": {},
   "outputs": [],
   "source": [
    "def show_patch(img, mask, bbox):\n",
    "    fig = plt.figure(figsize=(6, 1), frameon=False)\n",
    "    tly, tlx, bry, brx = bbox\n",
    "    img_patch = img[tly:bry,tlx:brx]\n",
    "    mask_patch = mask[tly:bry,tlx:brx]\n",
    "    mask_patch = np.minimum(mask_patch, 1)\n",
    "    mask_patch = np.repeat(mask_patch[:,:,np.newaxis], 3, axis=2)\n",
    "    plt.imshow(img_patch * mask_patch)"
   ]
  },
  {
   "cell_type": "code",
   "execution_count": 9,
   "metadata": {},
   "outputs": [],
   "source": [
    "class_frequency = defaultdict(int)\n",
    "size_per_class = defaultdict(list)\n",
    "form_factor_per_class = defaultdict(list)\n",
    "filling_ratio_per_class = defaultdict(list)\n",
    "rgb_colors_per_class = defaultdict(list)\n",
    "for img_file in sorted(glob.glob('data/train/*.jpg')):\n",
    "    name = os.path.splitext(os.path.split(img_file)[1])[0]\n",
    "    mask_file = 'data/train/mask/mask.{}.png'.format(name)\n",
    "    gt_file = 'data/train/gt/gt.{}.txt'.format(name)\n",
    "    img = imageio.imread(img_file)\n",
    "    mask = imageio.imread(mask_file)\n",
    "    gts = [line.split(' ') for line in open(gt_file, 'r').read().splitlines()]\n",
    "    for gt in gts:\n",
    "        bbox = np.round(list(map(int, map(float, gt[:4]))))\n",
    "        label = gt[4]\n",
    "        \n",
    "        class_frequency[label] += 1\n",
    "        size_per_class[label].append(size(mask, bbox))\n",
    "        form_factor_per_class[label].append(form_factor(bbox))\n",
    "        filling_ratio_per_class[label].append(filling_ratio(mask, bbox))\n",
    "        rgb_colors_per_class[label].extend(dominant_colors(img, mask, bbox))"
   ]
  },
  {
   "cell_type": "code",
   "execution_count": 10,
   "metadata": {},
   "outputs": [],
   "source": [
    "hsv_colors_per_class = defaultdict(list)\n",
    "for label in rgb_colors_per_class.keys():\n",
    "    for rgb in rgb_colors_per_class[label]:\n",
    "        hsv = list(colorsys.rgb_to_hsv(*(rgb/255)))\n",
    "        hsv[2] = 1  # maximum amount of white\n",
    "        hsv_colors_per_class[label].append(hsv)"
   ]
  },
  {
   "cell_type": "code",
   "execution_count": null,
   "metadata": {},
   "outputs": [
    {
     "data": {
      "image/png": "[encoded data removed]",
      "text/plain": [
       "<matplotlib.figure.Figure at 0x113ef86a0>"
      ]
     },
     "metadata": {},
     "output_type": "display_data"
    },
    {
     "data": {
      "image/png": "[encoded data removed]",
      "text/plain": [
       "<matplotlib.figure.Figure at 0x113ef81d0>"
      ]
     },
     "metadata": {},
     "output_type": "display_data"
    },
    {
     "data": {
      "image/png": "[encoded data removed]",
      "text/plain": [
       "<matplotlib.figure.Figure at 0x1085548d0>"
      ]
     },
     "metadata": {},
     "output_type": "display_data"
    },
    {
     "data": {
      "image/png": "[encoded data removed]",
      "text/plain": [
       "<matplotlib.figure.Figure at 0x10881ca58>"
      ]
     },
     "metadata": {},
     "output_type": "display_data"
    },
    {
     "data": {
      "image/png": "[encoded data removed]",
      "text/plain": [
       "<matplotlib.figure.Figure at 0x115815b00>"
      ]
     },
     "metadata": {},
     "output_type": "display_data"
    },
    {
     "data": {
      "image/png": "[encoded data removed]",
      "text/plain": [
       "<matplotlib.figure.Figure at 0x115815b38>"
      ]
     },
     "metadata": {},
     "output_type": "display_data"
    }
   ],
   "source": [
    "for label in sorted(hsv_colors_per_class.keys()):\n",
    "    hsv_colors = hsv_colors_per_class[label]\n",
    "    clt = KMeans(n_clusters=2)\n",
    "    clt.fit(hsv_colors)\n",
    "    avg_colors = clt.cluster_centers_\n",
    "    show_colors([colorsys.hsv_to_rgb(*hsv) for hsv in avg_colors])\n",
    "    plt.title(label)\n",
    "plt.show()"
   ]
  },
  {
   "cell_type": "code",
   "execution_count": 12,
   "metadata": {},
   "outputs": [
    {
     "name": "stdout",
     "output_type": "stream",
     "text": [
      "(0.6212, 0.6416, 1.0000)\n",
      "(0.0196, 0.6111, 1.0000)\n",
      "(0.4834, 0.1865, 1.0000)\n"
     ]
    },
    {
     "data": {
      "image/png": "[encoded data removed]",
      "text/plain": [
       "<matplotlib.figure.Figure at 0x113ef8588>"
      ]
     },
     "metadata": {},
     "output_type": "display_data"
    }
   ],
   "source": [
    "hsv_colors = np.concatenate(list(hsv_colors_per_class.values()))\n",
    "clt = KMeans(n_clusters=3)  # 3 colors\n",
    "clt.fit(hsv_colors)\n",
    "avg_colors = clt.cluster_centers_\n",
    "[print('({:.4f}, {:.4f}, {:.4f})'.format(*c)) for c in avg_colors]\n",
    "show_colors([colorsys.hsv_to_rgb(*hsv) for hsv in avg_colors])\n",
    "plt.show()"
   ]
  }
 ],
 "metadata": {
  "kernelspec": {
   "display_name": "Python 3",
   "language": "python",
   "name": "python3"
  },
  "language_info": {
   "codemirror_mode": {
    "name": "ipython",
    "version": 3
   },
   "file_extension": ".py",
   "mimetype": "text/x-python",
   "name": "python",
   "nbconvert_exporter": "python",
   "pygments_lexer": "ipython3",
   "version": "3.6.3"
  }
 },
 "nbformat": 4,
 "nbformat_minor": 2
}
